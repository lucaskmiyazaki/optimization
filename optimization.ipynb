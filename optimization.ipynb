{
  "nbformat": 4,
  "nbformat_minor": 0,
  "metadata": {
    "colab": {
      "name": "optimization.ipynb",
      "provenance": [],
      "authorship_tag": "ABX9TyNM/2YhY5HaQk+nLzzPuQEw",
      "include_colab_link": true
    },
    "kernelspec": {
      "name": "python3",
      "display_name": "Python 3"
    }
  },
  "cells": [
    {
      "cell_type": "markdown",
      "metadata": {
        "id": "view-in-github",
        "colab_type": "text"
      },
      "source": [
        "<a href=\"https://colab.research.google.com/github/lucaskmiyazaki/optimization/blob/master/optimization.ipynb\" target=\"_parent\"><img src=\"https://colab.research.google.com/assets/colab-badge.svg\" alt=\"Open In Colab\"/></a>"
      ]
    },
    {
      "cell_type": "code",
      "metadata": {
        "id": "sWF7IesmhHes",
        "colab_type": "code",
        "colab": {}
      },
      "source": [
        "import numpy as np\n",
        "from numpy import linalg as la\n",
        "%matplotlib inline\n",
        "import matplotlib.pyplot as plt\n",
        "from mpl_toolkits import mplot3d"
      ],
      "execution_count": null,
      "outputs": []
    },
    {
      "cell_type": "code",
      "metadata": {
        "id": "vUxLWkdXY5jc",
        "colab_type": "code",
        "colab": {
          "base_uri": "https://localhost:8080/",
          "height": 69
        },
        "outputId": "d76bd2f3-b5a1-4772-8684-01be2fe3c2b7"
      },
      "source": [
        "# calculo da sensiibilidade\n",
        "E = 207\n",
        "A1 = 2.5\n",
        "A2 = 1\n",
        "A3 = 2.5\n",
        "L1 = 100*np.sqrt(2)\n",
        "L2 = 100\n",
        "L3 = 100*np.sqrt(2)\n",
        "F1 = 40000\n",
        "dA2 = 0.1\n",
        "K = (E/2)*np.array([[A1/L1 + A3/L3, -A1/L1 + A3/L3],[-A1/L1 + A3/L3, A1/L1 + 2*A2/L2 + A3/L3]])\n",
        "A2 = A2 + dA1\n",
        "K2 = (E/2)*np.array([[A1/L1 + A3/L3, -A1/L1 + A3/L3],[-A1/L1 + A3/L3, A1/L1 + 2*A2/L2 + A3/L3]])\n",
        "F = -F1*(np.sqrt(2)/2)*np.array([1, 1])\n",
        "inv_K = la.inv(K)\n",
        "#dK = (103.5*np.sqrt(2)/200)*np.array([[1, -1], [-1, 1]])\n",
        "dK = (K2 - K)/dA1\n",
        "U = (la.solve(K, F))\n",
        "U2 = (la.solve(K2, F))\n",
        "dU = np.dot(inv_K, -np.dot(dK, U))\n",
        "#dC = np.dot(-np.transpose(U), np.dot(dK, U))\n",
        "C = np.dot(np.transpose(U), np.dot(K, U))\n",
        "C2 = np.dot(np.transpose(U2), np.dot(K2, U2))\n",
        "dC = (C2-C)/dA1\n",
        "print(dK, dC)\n",
        "theta = 3*np.pi/4\n",
        "sigma = E*(U[0]*np.cos(theta) + U[1]*np.sin(theta))/L3\n",
        "sigma2 = E*(U2[0]*np.cos(theta) + U2[1]*np.sin(theta))/L3\n",
        "ds = (sigma2 - sigma)/dA2\n",
        "print(sigma)"
      ],
      "execution_count": null,
      "outputs": [
        {
          "output_type": "stream",
          "text": [
            "[[0.   0.  ]\n",
            " [0.   2.07]] -48690727.80040085\n",
            "2890.416764108682\n"
          ],
          "name": "stdout"
        }
      ]
    },
    {
      "cell_type": "code",
      "metadata": {
        "id": "WFCoIfFDiPxS",
        "colab_type": "code",
        "colab": {
          "base_uri": "https://localhost:8080/",
          "height": 34
        },
        "outputId": "37a11b82-5da2-4a02-f98d-630fe410c317"
      },
      "source": [
        "# autovetor e autovalor\n",
        "H = np.array([[42, -24], [-24, 28]])\n",
        "print(H)\n",
        "w, v = la.eig(H)\n",
        "print(w)"
      ],
      "execution_count": null,
      "outputs": [
        {
          "output_type": "stream",
          "text": [
            "[60. 10.]\n"
          ],
          "name": "stdout"
        }
      ]
    },
    {
      "cell_type": "code",
      "metadata": {
        "id": "Erie6HUzBma1",
        "colab_type": "code",
        "colab": {
          "base_uri": "https://localhost:8080/",
          "height": 34
        },
        "outputId": "0b906046-78c1-4981-b37d-874e0b6b5970"
      },
      "source": [
        "# lin system solver\n",
        "a = np.array([[42, -24], [-24, 28]])\n",
        "b = np.array([-30,60])\n",
        "np.linalg.solve(a, b)"
      ],
      "execution_count": null,
      "outputs": [
        {
          "output_type": "execute_result",
          "data": {
            "text/plain": [
              "array([1., 3.])"
            ]
          },
          "metadata": {
            "tags": []
          },
          "execution_count": 38
        }
      ]
    },
    {
      "cell_type": "code",
      "metadata": {
        "id": "8x-ykNVEpgHB",
        "colab_type": "code",
        "colab": {
          "base_uri": "https://localhost:8080/",
          "height": 265
        },
        "outputId": "356da8b8-07c9-4781-b059-6982a17b4fd0"
      },
      "source": [
        "# 3d plot\n",
        "import matplotlib.pyplot as plt\n",
        "def f(x, y):\n",
        "    return 21*x**2 - 24*x*y+ 30*x+ 14*y**2-60*y\n",
        "x = np.linspace(-1, 1, 10)\n",
        "y = np.linspace(-4, 4, 10)\n",
        "\n",
        "X, Y = np.meshgrid(x, y)\n",
        "Z = f(X, Y)\n",
        "\n",
        "fig = plt.figure()\n",
        "ax = plt.axes(projection='3d')\n",
        "ax.contour3D(X, Y, Z, 50, cmap='binary')\n",
        "ax.scatter(0, 0, 0)\n",
        "ax.scatter(-0.6, 1.2, -45)\n",
        "ax.scatter(0.6, 1.8, -63)\n",
        "ax.scatter(0.36, 2.28, -70.2)\n",
        "ax.scatter(0.84, 2.52, -73.08)\n",
        "ax.set_xlabel('x')\n",
        "ax.set_ylabel('y')\n",
        "ax.set_zlabel('z')"
      ],
      "execution_count": null,
      "outputs": [
        {
          "output_type": "execute_result",
          "data": {
            "text/plain": [
              "Text(0.5, 0, 'z')"
            ]
          },
          "metadata": {
            "tags": []
          },
          "execution_count": 74
        },
        {
          "output_type": "display_data",
          "data": {
            "image/png": "[encoded data removed]",
            "text/plain": [
              "<Figure size 432x288 with 1 Axes>"
            ]
          },
          "metadata": {
            "tags": [],
            "needs_background": "light"
          }
        }
      ]
    },
    {
      "cell_type": "code",
      "metadata": {
        "id": "uhN4S0HMavY3",
        "colab_type": "code",
        "colab": {
          "base_uri": "https://localhost:8080/",
          "height": 269
        },
        "outputId": "866d555a-d2c1-4cd5-a050-321767423c27"
      },
      "source": [
        "# heatmap plot\n",
        "import numpy as np; np.random.seed(0)\n",
        "import seaborn as sns; sns.set()\n",
        "\n",
        "def f(x, y):\n",
        "    return 21*x**2 - 24*x*y+ 30*x+ 14*y**2-60*y\n",
        "p = 3\n",
        "p0 = -p\n",
        "pf = p\n",
        "s = 100\n",
        "x = np.linspace(p0, pf, s)\n",
        "y = np.linspace(p0, pf, s)\n",
        "\n",
        "X, Y = np.meshgrid(x, y)\n",
        "Z = f(X, Y)\n",
        "\n",
        "ax = sns.heatmap(Z, xticklabels=False, yticklabels= False)\n",
        "points = [[0, 0], [-0.6, 1.2], [0.6, 1.8], [0.36, 2.28], [0.84, 2.52]]\n",
        "#points = [[0, 0], [-0.7142857142857143, 0.0], [-0.7142857142857143, 1.5306122448979593], [0.16034985422740522, 1.5306122448979593], [0.16034985422740522, 2.2802998750520618], [0.5887427857440353, 2.2802998750520618], [0.5887427857440353, 2.6474938163520303]]\n",
        "for i in range(len(points)):\n",
        "  ax.scatter(s/2 + points[i][0]*s/(2*p), s/2 + points[i][1]*s/(2*p))\n",
        "ax.invert_yaxis()\n",
        "ax.legend(points, bbox_to_anchor=(1.7, 1))"
      ],
      "execution_count": null,
      "outputs": [
        {
          "output_type": "execute_result",
          "data": {
            "text/plain": [
              "<matplotlib.legend.Legend at 0x7f19bc999a58>"
            ]
          },
          "metadata": {
            "tags": []
          },
          "execution_count": 128
        },
        {
          "output_type": "display_data",
          "data": {
            "image/png": "[encoded data removed]",
            "text/plain": [
              "<Figure size 432x288 with 2 Axes>"
            ]
          },
          "metadata": {
            "tags": []
          }
        }
      ]
    },
    {
      "cell_type": "code",
      "metadata": {
        "id": "WUrQeusBizCS",
        "colab_type": "code",
        "colab": {
          "base_uri": "https://localhost:8080/",
          "height": 265
        },
        "outputId": "dc41d0f4-d519-4805-c2d8-df54e46d9507"
      },
      "source": [
        "# plot 3d\n",
        "ax = plt.axes(projection='3d')\n",
        "plt.figure()\n",
        "\n",
        "# evenly sampled time at 200ms intervals from 0 to 5s\n",
        "#F = np.arange(0., 5., 0.2)\n",
        "x1 = np.linspace(-6, 6, 30)\n",
        "x2 = np.linspace(-6, 6, 30)\n",
        "X, Y = np.meshgrid(x1, x2)\n",
        "Z = F(X, Y)\n",
        "\n",
        "# Data for a three-dimensional \n",
        "ax.contour3D(X, Y, Z,  50, cmap='binary')\n",
        "\n",
        "# red dashes, blue squares and green triangles\n",
        "#plt.plot(t, t, 'r--')\n",
        "plt.show()"
      ],
      "execution_count": null,
      "outputs": [
        {
          "output_type": "display_data",
          "data": {
            "image/png": "[encoded data removed]",
            "text/plain": [
              "<Figure size 432x288 with 1 Axes>"
            ]
          },
          "metadata": {
            "tags": []
          }
        },
        {
          "output_type": "display_data",
          "data": {
            "text/plain": [
              "<Figure size 432x288 with 0 Axes>"
            ]
          },
          "metadata": {
            "tags": []
          }
        }
      ]
    },
    {
      "cell_type": "code",
      "metadata": {
        "id": "Eyq1Cd-iVw4M",
        "colab_type": "code",
        "colab": {
          "base_uri": "https://localhost:8080/",
          "height": 268
        },
        "outputId": "4284667c-9a0b-4718-afb7-488e7f8d2d48"
      },
      "source": [
        "# gradient plot\n",
        "import numpy as np\n",
        "import matplotlib.pyplot as plt\n",
        "from sympy.solvers import solve\n",
        "from sympy import Symbol\n",
        "import sympy\n",
        "\n",
        "# find domain from inequalities\n",
        "def f1(x):\n",
        "    return -0.05*x+50\n",
        "def f2(x):\n",
        "    return -0.25*x+87.5\n",
        "def f3(x):\n",
        "    return 1000000*x\n",
        "\n",
        "# fill domain region\n",
        "x = Symbol('x')\n",
        "x1, =  solve(f1(x)-f2(x))\n",
        "x2, =  solve(f1(x)-f3(x))\n",
        "x3, =  solve(f2(x)-f3(x))\n",
        "y1 = f1(x1)\n",
        "y2 = f1(x2)\n",
        "y3 = f2(x3)\n",
        "plt.fill([x1,x2,x3,x1],[y1,y2,y3,y1],'red',alpha=0.5)\n",
        "\n",
        "# trace border lines\n",
        "xr = np.linspace(0.0,2.0,100)\n",
        "y1r = f1(xr)\n",
        "y2r = f2(xr)\n",
        "y3r = f3(xr)\n",
        "plt.plot(xr,y1r,'k--')\n",
        "plt.plot(xr,y2r,'k--')\n",
        "#plt.plot(xr,y3r,'k--')\n",
        "plt.xlim(0.0,200) # x>0\n",
        "plt.ylim(0.0,60) # y>0\n",
        "\n",
        "# define gradient\n",
        "x,y=sympy.symbols('x y')\n",
        "fun= x + 10*y\n",
        "\n",
        "# take the gradient symbolically\n",
        "gradfun=[sympy.diff(fun,var) for var in (x,y)]\n",
        "\n",
        "# turn into a bivariate lambda for numpy\n",
        "numgradfun=sympy.lambdify([x,y],gradfun)\n",
        "\n",
        "X,Y=np.meshgrid(np.linspace(0,200,10),np.linspace(0,60, 10))\n",
        "graddat=numgradfun(X,Y)\n",
        "\n",
        "#plt.figure()\n",
        "plt.quiver(X,Y,graddat[0],graddat[1])\n",
        "\n",
        "plt.show()"
      ],
      "execution_count": null,
      "outputs": [
        {
          "output_type": "display_data",
          "data": {
            "image/png": "[encoded data removed]",
            "text/plain": [
              "<Figure size 432x288 with 1 Axes>"
            ]
          },
          "metadata": {
            "tags": []
          }
        }
      ]
    },
    {
      "cell_type": "code",
      "metadata": {
        "id": "6hlYn2n0kCUn",
        "colab_type": "code",
        "colab": {
          "base_uri": "https://localhost:8080/",
          "height": 173
        },
        "outputId": "64ff34a2-861a-4297-d23d-4e7c18f2f298"
      },
      "source": [
        "import scipy.optimize as opt\n",
        "import numpy as np\n",
        "# otimizacao de primeira ordem\n",
        "def f(x):   \n",
        "  return 8*x[0]**4 + 5*x[1]**4 + 2*x[1]**2 - 36*x[0]**2\n",
        "def grad(x):\n",
        "  return np.array((32*x[0]**3 - 72*x[0]),(20*x[1]**3 + 4*x[1]))\n",
        "\n",
        "opt.minimize(f, [-1, 0], method=\"CG\", jac = grad)    "
      ],
      "execution_count": null,
      "outputs": [
        {
          "output_type": "execute_result",
          "data": {
            "text/plain": [
              "     fun: -39.74656194262167\n",
              "     jac: array(2.95706968)\n",
              " message: 'Desired error not necessarily achieved due to precision loss.'\n",
              "    nfev: 111\n",
              "     nit: 2\n",
              "    njev: 96\n",
              "  status: 2\n",
              " success: False\n",
              "       x: array([-1.47902698, -0.47902698])"
            ]
          },
          "metadata": {
            "tags": []
          },
          "execution_count": 28
        }
      ]
    },
    {
      "cell_type": "code",
      "metadata": {
        "id": "1obIk7X0tLUp",
        "colab_type": "code",
        "colab": {
          "base_uri": "https://localhost:8080/",
          "height": 173
        },
        "outputId": "4c8dfff9-0a8f-48ff-9892-afbdb4476e9b"
      },
      "source": [
        "def f(x):   # The rosenbrock function\n",
        "    return .5*(1 - x[0])**2 + (x[1] - x[0]**2)**2\n",
        "def jacobian(x):\n",
        "    return np.array((-2*.5*(1 - x[0]) - 4*x[0]*(x[1] - x[0]**2), 2*(x[1] - x[0]**2)))\n",
        "\n",
        "opt.minimize(f, [2, 1], method=\"CG\", jac=jacobian)    \n"
      ],
      "execution_count": null,
      "outputs": [
        {
          "output_type": "execute_result",
          "data": {
            "text/plain": [
              "     fun: 1.0912121775174348e-11\n",
              "     jac: array([-5.25283405e-06,  2.92893689e-07])\n",
              " message: 'Optimization terminated successfully.'\n",
              "    nfev: 27\n",
              "     nit: 13\n",
              "    njev: 27\n",
              "  status: 0\n",
              " success: True\n",
              "       x: array([0.99999533, 0.99999081])"
            ]
          },
          "metadata": {
            "tags": []
          },
          "execution_count": 20
        }
      ]
    },
    {
      "cell_type": "code",
      "metadata": {
        "id": "mXbgJR9CrDxZ",
        "colab_type": "code",
        "colab": {
          "base_uri": "https://localhost:8080/",
          "height": 86
        },
        "outputId": "c4dc1757-950a-4fad-86c2-1c8844937efa"
      },
      "source": [
        "# manipulacao simbolica\n",
        "import numpy as np\n",
        "import sympy as sym\n",
        "\n",
        "class Function:\n",
        "  def __init__(self, f):\n",
        "    self.f = f\n",
        "\n",
        "  def getFunction(self):\n",
        "    return self.f\n",
        "\n",
        "  def getValue(self, p):\n",
        "    return self.f.subs(x, p[0]).subs(y, p[1]).subs(r, p[2])\n",
        "\n",
        "  def getGrad(self, p):\n",
        "    return np.array([sym.diff(self.f, x).subs(x, p[0]).subs(y, p[1]).subs(r, p[2]), sym.diff(self.f, y).subs(x, p[0]).subs(y, p[1]).subs(r, p[2])])\n",
        "\n",
        "  def getDiff(self, dir, p):\n",
        "    return np.dot(self.getGrad(p), dir)\n",
        "\n",
        "def fun(x, y, r):\n",
        "  return 2*x**2 + 3*x*y + y**2\n",
        "\n",
        "x = sym.Symbol('x')\n",
        "y = sym.Symbol('y')\n",
        "r = sym.Symbol('r')\n",
        "f = Function(fun(x, y, r))\n",
        "print(f.getFunction())\n",
        "print(f.getValue([1,1, 1]))\n",
        "print(f.getGrad([1,1, 1]))\n",
        "print(f.getDiff([1,1], [1,1,1]))"
      ],
      "execution_count": null,
      "outputs": [
        {
          "output_type": "stream",
          "text": [
            "2*x**2 + 3*x*y + y**2\n",
            "6\n",
            "[7 5]\n",
            "12\n"
          ],
          "name": "stdout"
        }
      ]
    },
    {
      "cell_type": "code",
      "metadata": {
        "id": "qSlxr8ozoV32",
        "colab_type": "code",
        "colab": {
          "base_uri": "https://localhost:8080/",
          "height": 52
        },
        "outputId": "c639cfe6-96f7-4e7e-b9a8-6a70eca2c6f9"
      },
      "source": [
        "def dist(pos):\n",
        "  return (pos[0]**2+pos[1]**2)**(1/2)\n",
        "\n",
        "# find minimum point\n",
        "def minimum(pos, grad, f, e):\n",
        "  \"\"\"\n",
        "  for a 2 variables function find the minimum value in a straight line\n",
        "  from the initial position pos and the direction dir\n",
        "  return the position of the point\n",
        "  \"\"\"\n",
        "  df1 = f.getDiff(grad, pos)\n",
        "  if df1 == 0:\n",
        "    return pos\n",
        "  df2 = f.getDiff(grad, pos-grad)\n",
        "  i = 1\n",
        "  while (df1>0 and df2>0) or (df1<0 and df2<0): # encontrar um intervalo onde se encontra a raiz\n",
        "    i*=2\n",
        "    df2 = f.getDiff(grad, pos-grad*i)\n",
        "    if i > 100000:\n",
        "      raise Exception(\"function error: Could not find minimum\")\n",
        "  pos1 = pos\n",
        "  pos2 = pos-grad*i\n",
        "  \n",
        "  while dist(pos1-pos2)-e > 0:\n",
        "    pos3 = (pos1+pos2)/2\n",
        "    df3 = f.getDiff(grad, pos3)\n",
        "    if (df1>0 and df3>0) or (df1<0 and df3<0):\n",
        "      df1 = df3\n",
        "      pos1 = pos3\n",
        "    else:\n",
        "      df2 = df3\n",
        "      pos2 = pos3\n",
        "\n",
        "  return (pos1+pos2)/2\n",
        "\n",
        "def fun(x, y):\n",
        "  return 2*x**2 \n",
        "x = sym.Symbol('x')\n",
        "y = sym.Symbol('y')\n",
        "f = Function(fun(x, y))\n",
        "pos = np.array([1, 1])\n",
        "grad = f.getGrad(pos)\n",
        "print(grad)\n",
        "minimum(pos, grad, f, 0.001)"
      ],
      "execution_count": null,
      "outputs": [
        {
          "output_type": "stream",
          "text": [
            "[4 0]\n"
          ],
          "name": "stdout"
        },
        {
          "output_type": "execute_result",
          "data": {
            "text/plain": [
              "array([1/2048, 1], dtype=object)"
            ]
          },
          "metadata": {
            "tags": []
          },
          "execution_count": 44
        }
      ]
    },
    {
      "cell_type": "code",
      "metadata": {
        "id": "oALrNq7jNdtt",
        "colab_type": "code",
        "colab": {}
      },
      "source": [
        "def minimum(grad, pos, f):\n",
        "  sx = -grad[0]\n",
        "  sy = -grad[1]\n",
        "  px = pos[0]\n",
        "  py = pos[1]\n",
        "  r = pos[2]\n",
        "  \n",
        "  d = -2*r*sx*sy + (r+1)*sx**2 + (r+1)*sy**2\n",
        "  #print(r*(-px+2) )\n",
        "  alfa = sx*(r*(-px+py+2) - px + 4) + sy*(r*(px-2) - (r+1)*py)\n",
        "  alfa = alfa/d\n",
        "  temp = (py + alfa*sy) - (px + alfa*sx) + 2\n",
        "  print(\"G:\", float(temp))\n",
        "  if temp >= 0:\n",
        "    print(\"heyyy\")\n",
        "    d = sx**2 + sy**2\n",
        "    alfa = (px-4)*sx + py*sy \n",
        "    alfa = -alfa/d  \n",
        "  print(\"alfa: \", float(alfa))\n",
        "  return np.array([px+sx*alfa, py+sy*alfa, r])"
      ],
      "execution_count": null,
      "outputs": []
    },
    {
      "cell_type": "code",
      "metadata": {
        "id": "_hnIMIvVFDXS",
        "colab_type": "code",
        "colab": {
          "base_uri": "https://localhost:8080/",
          "height": 1000
        },
        "outputId": "62e3e47e-cf5d-41e3-e9d4-09f6eb517dc5"
      },
      "source": [
        "# penalizacao externa\n",
        "import sympy as sym\n",
        "import numpy as np\n",
        "\n",
        "class Function:\n",
        "  def __init__(self):\n",
        "    self.f1 = x**2 + y**2 -8*x + r*(-y+x-2)**2\n",
        "    self.f = x**2 + y**2 -8*x\n",
        "\n",
        "  def getValue(self, p):\n",
        "    if -p[1]+p[0]-2 > 0:\n",
        "      return self.f1.subs(x, p[0]).subs(y, p[1]).subs(r, p[2])\n",
        "    else:\n",
        "      return self.f.subs(x, p[0]).subs(y, p[1]).subs(r, p[2])\n",
        "\n",
        "  def getGrad(self, p):\n",
        "    if -p[1]+p[0]-2 > 0:\n",
        "      res = np.array([sym.diff(self.f1, x).subs(x, p[0]).subs(y, p[1]).subs(r, p[2]), sym.diff(self.f1, y).subs(x, p[0]).subs(y, p[1]).subs(r, p[2])])\n",
        "    else:\n",
        "      res = np.array([sym.diff(self.f, x).subs(x, p[0]).subs(y, p[1]).subs(r, p[2]), sym.diff(self.f, y).subs(x, p[0]).subs(y, p[1]).subs(r, p[2])])\n",
        "    return res\n",
        "\n",
        "  def getDiff(self, dir, p):\n",
        "    return np.dot(self.getGrad(p), dir)\n",
        "\n",
        "# steepest descent\n",
        "def stp_desc(f, pos, e):\n",
        "  pos1 = pos\n",
        "  grad = f.getGrad(pos1)\n",
        "  print(\"condicao inicial\")\n",
        "  print(\"posicao: \", pos1)\n",
        "  print(\"gradiente: \", grad)\n",
        "  print(\"valor:\", f.getValue(pos1))\n",
        "  pos2 = minimum(grad, pos1, f)\n",
        "  for i in range(100):\n",
        "    pos1 = pos2\n",
        "    grad = f.getGrad(pos1)\n",
        "    print(\"\\niteracao \", i)\n",
        "    print(\"posicao: \", float(pos1[0]), \" \", float(pos1[1]))\n",
        "    print(\"gradiente: \", float(grad[0]), \" \", float(grad[1]))\n",
        "    print(\"valor:\", float(f.getValue(pos1)))\n",
        "    pos2 = minimum(grad, pos1, f)\n",
        "    if (f.getValue(pos1)-f.getValue(pos2)) < e:\n",
        "      pos1 = pos2\n",
        "      grad = f.getGrad(pos1)\n",
        "      print(\"\\nponto final\")\n",
        "      print(\"posicao: \", float(pos1[0]), \" \", float(pos1[1]))\n",
        "      print(\"gradiente: \", float(grad[0]), \" \", float(grad[1]))\n",
        "      print(\"valor:\", float(f.getValue(pos1)))\n",
        "      break\n",
        "\n",
        "  return pos2\n",
        "\n",
        "\n",
        "x = sym.Symbol('x')\n",
        "y = sym.Symbol('y')\n",
        "r = sym.Symbol('r')\n",
        "f = Function()\n",
        "print(\"-------------- CICLO 0 --------------\")\n",
        "pos = np.array([0, 0, 1/16])\n",
        "for i in range(10):\n",
        "  print(\"\\n\\n\\n\\n\\n-------------- CICLO \", i, \" --------------\")\n",
        "  new_pos = stp_desc(f, pos, 0.005)\n",
        "  if abs(f.getValue(new_pos) - f.getValue(pos)) < abs(f.getValue(new_pos)*0.005):\n",
        "    break\n",
        "  pos = new_pos\n",
        "  pos[2] = pos[2]*4\n",
        "\n",
        "\n"
      ],
      "execution_count": null,
      "outputs": [
        {
          "output_type": "stream",
          "text": [
            "-------------- CICLO 0 --------------\n",
            "\n",
            "\n",
            "\n",
            "\n",
            "\n",
            "-------------- CICLO  0  --------------\n",
            "condicao inicial\n",
            "posicao:  [0.     0.     0.0625]\n",
            "gradiente:  [-8 0]\n",
            "valor: 0\n",
            "G: -1.8823529411764706\n",
            "alfa:  0.4852941176470588\n",
            "\n",
            "iteracao  0\n",
            "posicao:  3.8823529411764706   0.0\n",
            "gradiente:  -5.551115123125783e-17   -0.23529411764705882\n",
            "valor: -15.764705882352942\n",
            "G: -1.7716262975778547\n",
            "alfa:  0.47058823529411764\n",
            "\n",
            "iteracao  1\n",
            "posicao:  3.8823529411764706   0.11072664359861592\n",
            "gradiente:  -0.013840830449827035   0.0\n",
            "valor: -15.777732546305721\n",
            "G: -1.7781396295542442\n",
            "alfa:  0.4705882352941233\n",
            "\n",
            "ponto final\n",
            "posicao:  3.88886627315286   0.11072664359861592\n",
            "gradiente:  6.106226635438361e-16   -0.000814166497048685\n",
            "valor: -15.777777621267495\n",
            "\n",
            "\n",
            "\n",
            "\n",
            "\n",
            "-------------- CICLO  1  --------------\n",
            "condicao inicial\n",
            "posicao:  [3.88886627315286 0.110726643598616 0.25]\n",
            "gradiente:  [0.666802361082842 -0.667616527579890]\n",
            "valor: -15.1849437696066\n",
            "G: -1.33333327813936\n",
            "alfa:  0.33333337469513774\n",
            "\n",
            "iteracao  0\n",
            "posicao:  3.6665987918784304   0.3332655137390702\n",
            "gradiente:  -0.00013577717345913953   -0.00013561159153963054\n",
            "valor: -15.333333324126848\n",
            "G: -1.3333333609303044\n",
            "alfa:  0.49999990693596835\n",
            "\n",
            "ponto final\n",
            "posicao:  3.666666680452524   0.33333331952221945\n",
            "gradiente:  4.137019993244451e-08   -4.142071330370811e-08\n",
            "valor: -15.333333333333332\n",
            "\n",
            "\n",
            "\n",
            "\n",
            "\n",
            "-------------- CICLO  2  --------------\n",
            "condicao inicial\n",
            "posicao:  [3.66666668045252 0.333333319522219 1.0]\n",
            "gradiente:  [2.00000008276566 -2.00000008281617]\n",
            "valor: -13.9999999448061\n",
            "G: -0.666666666666667\n",
            "alfa:  0.16666666666666663\n",
            "\n",
            "iteracao  0\n",
            "posicao:  3.3333333333249144   0.6666666666582477\n",
            "gradiente:  -1.6837642391465124e-11   -1.6838086480674974e-11\n",
            "valor: -14.666666666666666\n",
            "G: -0.6666666666666665\n",
            "alfa:  0.49999340630357836\n",
            "\n",
            "ponto final\n",
            "posicao:  3.333333333333333   0.6666666666666666\n",
            "gradiente:  -1.1102230246251565e-15   4.440892098500626e-16\n",
            "valor: -14.666666666666666\n",
            "\n",
            "\n",
            "\n",
            "\n",
            "\n",
            "-------------- CICLO  3  --------------\n",
            "condicao inicial\n",
            "posicao:  [3.33333333333333 0.666666666666667 4.0]\n",
            "gradiente:  [4.00000000000000 -4.00000000000000]\n",
            "valor: -13.3333333333333\n",
            "G: -0.22222222222222188\n",
            "alfa:  0.055555555555555566\n",
            "\n",
            "iteracao  0\n",
            "posicao:  3.1111111111111107   0.8888888888888888\n",
            "gradiente:  -3.552713678800501e-15   2.6645352591003757e-15\n",
            "valor: -14.222222222222223\n",
            "G: -0.22222222222222232\n",
            "alfa:  0.06334841628959276\n",
            "\n",
            "ponto final\n",
            "posicao:  3.111111111111111   0.8888888888888886\n",
            "gradiente:  2.6645352591003757e-15   -3.1086244689504383e-15\n",
            "valor: -14.222222222222221\n",
            "\n",
            "\n",
            "\n",
            "\n",
            "\n",
            "-------------- CICLO  4  --------------\n",
            "condicao inicial\n",
            "posicao:  [3.11111111111111 0.888888888888889 16.0]\n",
            "gradiente:  [5.33333333333334 -5.33333333333334]\n",
            "valor: -13.6296296296296\n",
            "G: -0.06060606060606055\n",
            "alfa:  0.01515151515151514\n",
            "\n",
            "iteracao  0\n",
            "posicao:  3.0303030303030303   0.9696969696969695\n",
            "gradiente:  5.329070518200751e-15   -5.773159728050814e-15\n",
            "valor: -14.06060606060606\n",
            "G: -0.06060606060606055\n",
            "alfa:  0.0077571996509260156\n",
            "\n",
            "ponto final\n",
            "posicao:  3.0303030303030303   0.9696969696969695\n",
            "gradiente:  5.329070518200751e-15   -5.773159728050814e-15\n",
            "valor: -14.06060606060606\n",
            "\n",
            "\n",
            "\n",
            "\n",
            "\n",
            "-------------- CICLO  5  --------------\n",
            "condicao inicial\n",
            "posicao:  [3.03030303030303 0.969696969696970 64.0]\n",
            "gradiente:  [5.81818181818184 -5.81818181818184]\n",
            "valor: -13.8842975206612\n",
            "G: -0.015503875968992276\n",
            "alfa:  0.0038759689922480533\n",
            "\n",
            "iteracao  0\n",
            "posicao:  3.007751937984496   0.9922480620155038\n",
            "gradiente:  1.7763568394002505e-14   -1.7985612998927536e-14\n",
            "valor: -14.015503875968992\n",
            "G: -0.015503875968992276\n",
            "alfa:  0.0034834515118981045\n",
            "\n",
            "ponto final\n",
            "posicao:  3.007751937984496   0.9922480620155039\n",
            "gradiente:  3.552713678800501e-15   -3.552713678800501e-15\n",
            "valor: -14.015503875968992\n",
            "\n",
            "\n",
            "\n",
            "\n",
            "\n",
            "-------------- CICLO  6  --------------\n",
            "condicao inicial\n",
            "posicao:  [3.00775193798450 0.992248062015504 256.0]\n",
            "gradiente:  [5.95348837209304 -5.95348837209304]\n",
            "valor: -13.9693528033171\n",
            "G: -0.003898635477582957\n",
            "alfa:  0.000974658869395711\n",
            "\n",
            "iteracao  0\n",
            "posicao:  3.0019493177387915   0.9980506822612085\n",
            "gradiente:  5.684341886080802e-14   -5.684341886080802e-14\n",
            "valor: -14.003898635477583\n",
            "G: -0.003898635477582957\n",
            "alfa:  0.0004873294346978557\n",
            "\n",
            "ponto final\n",
            "posicao:  3.0019493177387915   0.9980506822612085\n",
            "gradiente:  5.684341886080802e-14   -5.684341886080802e-14\n",
            "valor: -14.003898635477583\n"
          ],
          "name": "stdout"
        }
      ]
    },
    {
      "cell_type": "code",
      "metadata": {
        "id": "xdUfUHLYnUEJ",
        "colab_type": "code",
        "colab": {
          "base_uri": "https://localhost:8080/",
          "height": 1000
        },
        "outputId": "8ff75383-e457-42ca-8772-591d80cf7cc4"
      },
      "source": [
        "import numpy as np\n",
        "\n",
        "# Powell\n",
        "def minimum(grad, pos):\n",
        "  sx = -grad[0]\n",
        "  sy = -grad[1]\n",
        "  px = pos[0]\n",
        "  py = pos[1]\n",
        "  d = -24*sx*sy + 21*sx**2 + 14*sy**2\n",
        "  alfa = 2*sy*(6*px-7*py+15)-3*sx*(7*px-4*py+5)\n",
        "  alfa = alfa/d\n",
        "  print(\"alfa: \", float(alfa))\n",
        "  return alfa\n",
        "\n",
        "def powell(f, pos):\n",
        "  n = 2\n",
        "  p = np.zeros((n+1, n+1, 2))\n",
        "  s = np.zeros((n+1, n+1, 2))\n",
        "  alfa = np.zeros((n+1, n+1))\n",
        "  for i in range(n+1):\n",
        "    for j in range(n+1):\n",
        "      # find s\n",
        "      if j<n and i>0:\n",
        "        s[i][j] = s[i-1][j+1]\n",
        "      elif j == n:\n",
        "        s[i][j] = p[i][j-1]-p[i][0] \n",
        "      elif i == 0 and j == 0:\n",
        "        s[i][j] = np.array([1, 0])\n",
        "      elif i == 0 and j == 1:\n",
        "        s[i][j] = np.array([0, 1])\n",
        "      # find p\n",
        "      if j == 0 and i == 0:\n",
        "        p[i][j] = pos\n",
        "      elif j > 0:\n",
        "        p[i][j] = p[i][j-1] + alfa[i][j-1]*s[i][j-1]\n",
        "      elif j == 0:\n",
        "        p[i][j] = p[i-1][n] + alfa[i-1][n]*s[i-1][n]\n",
        "      print(\"posicao: \", float(p[i][j][0]), \" \", float(p[i][j][1]))\n",
        "      print(\"gradiente: \", float(s[i][j][0]), \" \", float(s[i][j][1]))\n",
        "      print(\"valor:\", float(f.getValue(p[i][j])))\n",
        "      # find alfa\n",
        "      alfa[i][j] = minimum(-s[i][j], p[i][j])\n",
        "  return s[1][2], s[0][2]\n",
        "    \n",
        "def fun(x, y):\n",
        "  return 21*x**2-24*x*y+30*x+14*y**2-60*y\n",
        "x = sym.Symbol('x')\n",
        "y = sym.Symbol('y')\n",
        "f = Function(fun(x, y))\n",
        "pos = np.array([0, 0])\n",
        "s1, s2 = powell(f, pos)\n",
        "H = np.array([[sym.diff(f, x).diff(f, x), sym.diff(f, x).diff(f, y)],[sym.diff(f, y).diff(f, x), sym.diff(f, y).diff(f, y)]])\n",
        "print(s1, H, s2)"
      ],
      "execution_count": null,
      "outputs": [
        {
          "output_type": "stream",
          "text": [
            "posicao:  0.0   0.0\n",
            "gradiente:  1.0   0.0\n",
            "valor: 0.0\n",
            "alfa:  -0.7142857142857143\n",
            "posicao:  -0.7142857142857143   0.0\n",
            "gradiente:  0.0   1.0\n",
            "valor: -10.714285714285712\n",
            "alfa:  1.5306122448979593\n",
            "posicao:  -0.7142857142857143   1.5306122448979593\n",
            "gradiente:  -0.7142857142857143   0.0\n",
            "valor: -43.513119533527714\n",
            "alfa:  -1.2244897959183674\n",
            "posicao:  0.16034985422740522   1.5306122448979593\n",
            "gradiente:  0.0   1.0\n",
            "valor: -59.57785446540133\n",
            "alfa:  0.7496876301541023\n",
            "posicao:  0.16034985422740522   2.2802998750520618\n",
            "gradiente:  -0.7142857142857143   0.0\n",
            "valor: -67.44629606468635\n",
            "alfa:  -0.599750104123282\n",
            "posicao:  0.5887427857440353   2.2802998750520618\n",
            "gradiente:  0.0   0.7496876301541024\n",
            "valor: -71.30022664392797\n",
            "alfa:  0.489795918367347\n",
            "posicao:  0.5887427857440353   2.6474938163520303\n",
            "gradiente:  -0.7142857142857143   0.0\n",
            "valor: -73.18786611131168\n",
            "alfa:  -0.2937551530399748\n",
            "posicao:  0.798567895058303   2.6474938163520303\n",
            "gradiente:  0.0   0.7496876301541024\n",
            "valor: -74.11242421778525\n",
            "alfa:  0.23990004164931303\n",
            "posicao:  0.798567895058303   2.8273439100499744\n",
            "gradiente:  0.20982510931426768   0.0\n",
            "valor: -74.5652690046295\n",
            "alfa:  0.4897959183673487\n"
          ],
          "name": "stdout"
        },
        {
          "output_type": "error",
          "ename": "SympifyError",
          "evalue": "ignored",
          "traceback": [
            "\u001b[0;31m---------------------------------------------------------------------------\u001b[0m",
            "\u001b[0;31mSyntaxError\u001b[0m                               Traceback (most recent call last)",
            "\u001b[0;32m/usr/local/lib/python3.6/dist-packages/sympy/core/sympify.py\u001b[0m in \u001b[0;36msympify\u001b[0;34m(a, locals, convert_xor, strict, rational, evaluate)\u001b[0m\n\u001b[1;32m    353\u001b[0m         \u001b[0ma\u001b[0m \u001b[0;34m=\u001b[0m \u001b[0ma\u001b[0m\u001b[0;34m.\u001b[0m\u001b[0mreplace\u001b[0m\u001b[0;34m(\u001b[0m\u001b[0;34m'\\n'\u001b[0m\u001b[0;34m,\u001b[0m \u001b[0;34m''\u001b[0m\u001b[0;34m)\u001b[0m\u001b[0;34m\u001b[0m\u001b[0;34m\u001b[0m\u001b[0m\n\u001b[0;32m--> 354\u001b[0;31m         \u001b[0mexpr\u001b[0m \u001b[0;34m=\u001b[0m \u001b[0mparse_expr\u001b[0m\u001b[0;34m(\u001b[0m\u001b[0ma\u001b[0m\u001b[0;34m,\u001b[0m \u001b[0mlocal_dict\u001b[0m\u001b[0;34m=\u001b[0m\u001b[0mlocals\u001b[0m\u001b[0;34m,\u001b[0m \u001b[0mtransformations\u001b[0m\u001b[0;34m=\u001b[0m\u001b[0mtransformations\u001b[0m\u001b[0;34m,\u001b[0m \u001b[0mevaluate\u001b[0m\u001b[0;34m=\u001b[0m\u001b[0mevaluate\u001b[0m\u001b[0;34m)\u001b[0m\u001b[0;34m\u001b[0m\u001b[0;34m\u001b[0m\u001b[0m\n\u001b[0m\u001b[1;32m    355\u001b[0m     \u001b[0;32mexcept\u001b[0m \u001b[0;34m(\u001b[0m\u001b[0mTokenError\u001b[0m\u001b[0;34m,\u001b[0m \u001b[0mSyntaxError\u001b[0m\u001b[0;34m)\u001b[0m \u001b[0;32mas\u001b[0m \u001b[0mexc\u001b[0m\u001b[0;34m:\u001b[0m\u001b[0;34m\u001b[0m\u001b[0;34m\u001b[0m\u001b[0m\n",
            "\u001b[0;32m/usr/local/lib/python3.6/dist-packages/sympy/parsing/sympy_parser.py\u001b[0m in \u001b[0;36mparse_expr\u001b[0;34m(s, local_dict, transformations, global_dict, evaluate)\u001b[0m\n\u001b[1;32m    893\u001b[0m \u001b[0;34m\u001b[0m\u001b[0m\n\u001b[0;32m--> 894\u001b[0;31m     \u001b[0;32mreturn\u001b[0m \u001b[0meval_expr\u001b[0m\u001b[0;34m(\u001b[0m\u001b[0mcode\u001b[0m\u001b[0;34m,\u001b[0m \u001b[0mlocal_dict\u001b[0m\u001b[0;34m,\u001b[0m \u001b[0mglobal_dict\u001b[0m\u001b[0;34m)\u001b[0m\u001b[0;34m\u001b[0m\u001b[0;34m\u001b[0m\u001b[0m\n\u001b[0m\u001b[1;32m    895\u001b[0m \u001b[0;34m\u001b[0m\u001b[0m\n",
            "\u001b[0;32m/usr/local/lib/python3.6/dist-packages/sympy/parsing/sympy_parser.py\u001b[0m in \u001b[0;36meval_expr\u001b[0;34m(code, local_dict, global_dict)\u001b[0m\n\u001b[1;32m    806\u001b[0m     expr = eval(\n\u001b[0;32m--> 807\u001b[0;31m         code, global_dict, local_dict)  # take local objects in preference\n\u001b[0m\u001b[1;32m    808\u001b[0m \u001b[0;34m\u001b[0m\u001b[0m\n",
            "\u001b[0;31mSyntaxError\u001b[0m: invalid syntax (<string>, line 1)",
            "\nDuring handling of the above exception, another exception occurred:\n",
            "\u001b[0;31mSympifyError\u001b[0m                              Traceback (most recent call last)",
            "\u001b[0;32m<ipython-input-129-b655ea7c0795>\u001b[0m in \u001b[0;36m<module>\u001b[0;34m()\u001b[0m\n\u001b[1;32m     50\u001b[0m \u001b[0mpos\u001b[0m \u001b[0;34m=\u001b[0m \u001b[0mnp\u001b[0m\u001b[0;34m.\u001b[0m\u001b[0marray\u001b[0m\u001b[0;34m(\u001b[0m\u001b[0;34m[\u001b[0m\u001b[0;36m0\u001b[0m\u001b[0;34m,\u001b[0m \u001b[0;36m0\u001b[0m\u001b[0;34m]\u001b[0m\u001b[0;34m)\u001b[0m\u001b[0;34m\u001b[0m\u001b[0;34m\u001b[0m\u001b[0m\n\u001b[1;32m     51\u001b[0m \u001b[0ms1\u001b[0m\u001b[0;34m,\u001b[0m \u001b[0ms2\u001b[0m \u001b[0;34m=\u001b[0m \u001b[0mpowell\u001b[0m\u001b[0;34m(\u001b[0m\u001b[0mf\u001b[0m\u001b[0;34m,\u001b[0m \u001b[0mpos\u001b[0m\u001b[0;34m)\u001b[0m\u001b[0;34m\u001b[0m\u001b[0;34m\u001b[0m\u001b[0m\n\u001b[0;32m---> 52\u001b[0;31m \u001b[0mH\u001b[0m \u001b[0;34m=\u001b[0m \u001b[0mnp\u001b[0m\u001b[0;34m.\u001b[0m\u001b[0marray\u001b[0m\u001b[0;34m(\u001b[0m\u001b[0;34m[\u001b[0m\u001b[0;34m[\u001b[0m\u001b[0msym\u001b[0m\u001b[0;34m.\u001b[0m\u001b[0mdiff\u001b[0m\u001b[0;34m(\u001b[0m\u001b[0mf\u001b[0m\u001b[0;34m,\u001b[0m \u001b[0mx\u001b[0m\u001b[0;34m)\u001b[0m\u001b[0;34m.\u001b[0m\u001b[0mdiff\u001b[0m\u001b[0;34m(\u001b[0m\u001b[0mf\u001b[0m\u001b[0;34m,\u001b[0m \u001b[0mx\u001b[0m\u001b[0;34m)\u001b[0m\u001b[0;34m,\u001b[0m \u001b[0msym\u001b[0m\u001b[0;34m.\u001b[0m\u001b[0mdiff\u001b[0m\u001b[0;34m(\u001b[0m\u001b[0mf\u001b[0m\u001b[0;34m,\u001b[0m \u001b[0mx\u001b[0m\u001b[0;34m)\u001b[0m\u001b[0;34m.\u001b[0m\u001b[0mdiff\u001b[0m\u001b[0;34m(\u001b[0m\u001b[0mf\u001b[0m\u001b[0;34m,\u001b[0m \u001b[0my\u001b[0m\u001b[0;34m)\u001b[0m\u001b[0;34m]\u001b[0m\u001b[0;34m,\u001b[0m\u001b[0;34m[\u001b[0m\u001b[0msym\u001b[0m\u001b[0;34m.\u001b[0m\u001b[0mdiff\u001b[0m\u001b[0;34m(\u001b[0m\u001b[0mf\u001b[0m\u001b[0;34m,\u001b[0m \u001b[0my\u001b[0m\u001b[0;34m)\u001b[0m\u001b[0;34m.\u001b[0m\u001b[0mdiff\u001b[0m\u001b[0;34m(\u001b[0m\u001b[0mf\u001b[0m\u001b[0;34m,\u001b[0m \u001b[0mx\u001b[0m\u001b[0;34m)\u001b[0m\u001b[0;34m,\u001b[0m \u001b[0msym\u001b[0m\u001b[0;34m.\u001b[0m\u001b[0mdiff\u001b[0m\u001b[0;34m(\u001b[0m\u001b[0mf\u001b[0m\u001b[0;34m,\u001b[0m \u001b[0my\u001b[0m\u001b[0;34m)\u001b[0m\u001b[0;34m.\u001b[0m\u001b[0mdiff\u001b[0m\u001b[0;34m(\u001b[0m\u001b[0mf\u001b[0m\u001b[0;34m,\u001b[0m \u001b[0my\u001b[0m\u001b[0;34m)\u001b[0m\u001b[0;34m]\u001b[0m\u001b[0;34m]\u001b[0m\u001b[0;34m)\u001b[0m\u001b[0;34m\u001b[0m\u001b[0;34m\u001b[0m\u001b[0m\n\u001b[0m\u001b[1;32m     53\u001b[0m \u001b[0mprint\u001b[0m\u001b[0;34m(\u001b[0m\u001b[0ms1\u001b[0m\u001b[0;34m,\u001b[0m \u001b[0mH\u001b[0m\u001b[0;34m,\u001b[0m \u001b[0ms2\u001b[0m\u001b[0;34m)\u001b[0m\u001b[0;34m\u001b[0m\u001b[0;34m\u001b[0m\u001b[0m\n",
            "\u001b[0;32m/usr/local/lib/python3.6/dist-packages/sympy/core/function.py\u001b[0m in \u001b[0;36mdiff\u001b[0;34m(f, *symbols, **kwargs)\u001b[0m\n\u001b[1;32m   1835\u001b[0m     \u001b[0;32mexcept\u001b[0m \u001b[0mAttributeError\u001b[0m\u001b[0;34m:\u001b[0m\u001b[0;34m\u001b[0m\u001b[0;34m\u001b[0m\u001b[0m\n\u001b[1;32m   1836\u001b[0m         \u001b[0;32mpass\u001b[0m\u001b[0;34m\u001b[0m\u001b[0;34m\u001b[0m\u001b[0m\n\u001b[0;32m-> 1837\u001b[0;31m     \u001b[0;32mreturn\u001b[0m \u001b[0mDerivative\u001b[0m\u001b[0;34m(\u001b[0m\u001b[0mf\u001b[0m\u001b[0;34m,\u001b[0m \u001b[0;34m*\u001b[0m\u001b[0msymbols\u001b[0m\u001b[0;34m,\u001b[0m \u001b[0;34m**\u001b[0m\u001b[0mkwargs\u001b[0m\u001b[0;34m)\u001b[0m\u001b[0;34m\u001b[0m\u001b[0;34m\u001b[0m\u001b[0m\n\u001b[0m\u001b[1;32m   1838\u001b[0m \u001b[0;34m\u001b[0m\u001b[0m\n\u001b[1;32m   1839\u001b[0m \u001b[0;34m\u001b[0m\u001b[0m\n",
            "\u001b[0;32m/usr/local/lib/python3.6/dist-packages/sympy/core/function.py\u001b[0m in \u001b[0;36m__new__\u001b[0;34m(cls, expr, *variables, **assumptions)\u001b[0m\n\u001b[1;32m   1059\u001b[0m     \u001b[0;32mdef\u001b[0m \u001b[0m__new__\u001b[0m\u001b[0;34m(\u001b[0m\u001b[0mcls\u001b[0m\u001b[0;34m,\u001b[0m \u001b[0mexpr\u001b[0m\u001b[0;34m,\u001b[0m \u001b[0;34m*\u001b[0m\u001b[0mvariables\u001b[0m\u001b[0;34m,\u001b[0m \u001b[0;34m**\u001b[0m\u001b[0massumptions\u001b[0m\u001b[0;34m)\u001b[0m\u001b[0;34m:\u001b[0m\u001b[0;34m\u001b[0m\u001b[0;34m\u001b[0m\u001b[0m\n\u001b[1;32m   1060\u001b[0m \u001b[0;34m\u001b[0m\u001b[0m\n\u001b[0;32m-> 1061\u001b[0;31m         \u001b[0mexpr\u001b[0m \u001b[0;34m=\u001b[0m \u001b[0msympify\u001b[0m\u001b[0;34m(\u001b[0m\u001b[0mexpr\u001b[0m\u001b[0;34m)\u001b[0m\u001b[0;34m\u001b[0m\u001b[0;34m\u001b[0m\u001b[0m\n\u001b[0m\u001b[1;32m   1062\u001b[0m \u001b[0;34m\u001b[0m\u001b[0m\n\u001b[1;32m   1063\u001b[0m         \u001b[0;31m# There are no variables, we differentiate wrt all of the free symbols\u001b[0m\u001b[0;34m\u001b[0m\u001b[0;34m\u001b[0m\u001b[0;34m\u001b[0m\u001b[0m\n",
            "\u001b[0;32m/usr/local/lib/python3.6/dist-packages/sympy/core/sympify.py\u001b[0m in \u001b[0;36msympify\u001b[0;34m(a, locals, convert_xor, strict, rational, evaluate)\u001b[0m\n\u001b[1;32m    354\u001b[0m         \u001b[0mexpr\u001b[0m \u001b[0;34m=\u001b[0m \u001b[0mparse_expr\u001b[0m\u001b[0;34m(\u001b[0m\u001b[0ma\u001b[0m\u001b[0;34m,\u001b[0m \u001b[0mlocal_dict\u001b[0m\u001b[0;34m=\u001b[0m\u001b[0mlocals\u001b[0m\u001b[0;34m,\u001b[0m \u001b[0mtransformations\u001b[0m\u001b[0;34m=\u001b[0m\u001b[0mtransformations\u001b[0m\u001b[0;34m,\u001b[0m \u001b[0mevaluate\u001b[0m\u001b[0;34m=\u001b[0m\u001b[0mevaluate\u001b[0m\u001b[0;34m)\u001b[0m\u001b[0;34m\u001b[0m\u001b[0;34m\u001b[0m\u001b[0m\n\u001b[1;32m    355\u001b[0m     \u001b[0;32mexcept\u001b[0m \u001b[0;34m(\u001b[0m\u001b[0mTokenError\u001b[0m\u001b[0;34m,\u001b[0m \u001b[0mSyntaxError\u001b[0m\u001b[0;34m)\u001b[0m \u001b[0;32mas\u001b[0m \u001b[0mexc\u001b[0m\u001b[0;34m:\u001b[0m\u001b[0;34m\u001b[0m\u001b[0;34m\u001b[0m\u001b[0m\n\u001b[0;32m--> 356\u001b[0;31m         \u001b[0;32mraise\u001b[0m \u001b[0mSympifyError\u001b[0m\u001b[0;34m(\u001b[0m\u001b[0;34m'could not parse %r'\u001b[0m \u001b[0;34m%\u001b[0m \u001b[0ma\u001b[0m\u001b[0;34m,\u001b[0m \u001b[0mexc\u001b[0m\u001b[0;34m)\u001b[0m\u001b[0;34m\u001b[0m\u001b[0;34m\u001b[0m\u001b[0m\n\u001b[0m\u001b[1;32m    357\u001b[0m \u001b[0;34m\u001b[0m\u001b[0m\n\u001b[1;32m    358\u001b[0m     \u001b[0;32mreturn\u001b[0m \u001b[0mexpr\u001b[0m\u001b[0;34m\u001b[0m\u001b[0;34m\u001b[0m\u001b[0m\n",
            "\u001b[0;31mSympifyError\u001b[0m: Sympify of expression 'could not parse '<__main__.Function object at 0x7f19bff70a90>'' failed, because of exception being raised:\nSyntaxError: invalid syntax (<string>, line 1)"
          ]
        }
      ]
    },
    {
      "cell_type": "code",
      "metadata": {
        "id": "PwQs04Uke0y6",
        "colab_type": "code",
        "colab": {
          "base_uri": "https://localhost:8080/",
          "height": 69
        },
        "outputId": "8bc09dfb-1804-4082-c587-f610464dc460"
      },
      "source": [
        "import sympy as sym\n",
        "import numpy as np\n",
        "x = sym.Symbol(\"x\")\n",
        "y = sym.Symbol(\"y\")\n",
        "a = x**2+1+y\n",
        "f = sym.diff(a,x).subs(x, 1).subs(y, 1)\n",
        "b = np.array([1,2])\n",
        "f =np.linalg.norm(b)\n",
        "s1 = np.array([0.5887427857440353, 2.2802998750520618])\n",
        "s2 = np.array([-0.7142857142857143, 1.5306122448979593])\n",
        "H = np.array([[42, -24],[-24, 28]])\n",
        "print(np.transpose(s1)*H)\n",
        "print(np.matmul(np.matmul(s1, H), s2))"
      ],
      "execution_count": null,
      "outputs": [
        {
          "output_type": "stream",
          "text": [
            "[[ 24.727197   -54.727197  ]\n",
            " [-14.12982686  63.8483965 ]]\n",
            "97.5284229238789\n"
          ],
          "name": "stdout"
        }
      ]
    },
    {
      "cell_type": "code",
      "metadata": {
        "id": "1IzZygxjTbpg",
        "colab_type": "code",
        "colab": {
          "base_uri": "https://localhost:8080/",
          "height": 1000
        },
        "outputId": "15372806-0346-47c7-b425-94a49e5a5f46"
      },
      "source": [
        "# programacao linear sequencial\n",
        "import numpy as np\n",
        "import scipy.optimize as opt\n",
        "\n",
        "def func(x1, x2):\n",
        "  return x1**2 + x2**2 - 16*x1 - 2*x2\n",
        "def g1(x1, x2):\n",
        "  return np.sin(2*x1) + (2*np.pi - x1)/8 -x2\n",
        "def g2(x1, x2):\n",
        "  return -np.sin(2*x1) + (2*np.pi - x1)/8 +x2\n",
        "def a(x1, x2):\n",
        "  return 2*np.cos(2*x1) - 1/8\n",
        "def b(x1, x2):\n",
        "  return -1\n",
        "def c(x1, x2):\n",
        "  return -2*np.cos(2*x1) - 1/8\n",
        "def d(x1, x2):\n",
        "  return 1\n",
        "def e(x1, x2):\n",
        "  return 2*x1 -16\n",
        "def f(x1, x2):\n",
        "  return 2*x2 -2\n",
        "\n",
        "def slp(x1, x2, LM):\n",
        "  F = func(x1, x2)\n",
        "  A = np.array([[1, 0, a(x1, x2), 0, b(x1, x2), 0], [0, 1, c(x1, x2), 0, d(x1, x2), 0], [0, 0, 1, 1, 0, 0], [0, 0, 0, 0, 1, 1]])\n",
        "  B = np.array([g1(x1, x2) + LM*(a(x1, x2) + b(x1, x2)), g2(x1, x2) + LM*(c(x1, x2) + d(x1, x2)), 0, 0])\n",
        "  C = np.array([0, 0, -e(x1, x2), 0, -f(x1, x2), 0])\n",
        "  print(\"teste:  \" + str(np.dot(C, np.array([0, 0, LM, 0, LM, 0]))))\n",
        "  S = opt.linprog(C, A, B).x\n",
        "  print(\"teste:  \" + str(np.dot(C, S)))\n",
        "  # the new position\n",
        "  x1_new = x1 + LM - S[2]\n",
        "  x2_new = x2 + LM - S[4]\n",
        "  # criterion\n",
        "  if F > func(x1_new, x2_new) and g1(x1_new, x2_new) >= 0 and g2(x1_new, x2_new) >=0:\n",
        "    if (x1-x1_new)**2 + (x2 - x2_new)**2 < 0.0001:\n",
        "      print(\"optimization terminated\")\n",
        "      print(\"x1: \" + str(x1_new))\n",
        "      print(\"x2: \" + str(x2_new))\n",
        "      print(\"f: \" + str(func(x1_new, x2_new)))\n",
        "      print(\"g1: \" + str(g1(x1_new, x2_new)))\n",
        "      print(\"g2: \" + str(g2(x1_new, x2_new)))\n",
        "      return x1_new, x2_new\n",
        "    else:\n",
        "      print(\"position accepted\")\n",
        "      print(\"x1: \" + str(x1_new))\n",
        "      print(\"x2: \" + str(x2_new))\n",
        "      print(\"f: \" + str(func(x1_new, x2_new)))\n",
        "      print(\"g1: \" + str(g1(x1_new, x2_new)))\n",
        "      print(\"g2: \" + str(g2(x1_new, x2_new)))\n",
        "      return slp(x1_new, x2_new, LM) \n",
        "  else:\n",
        "    print(\"position rejected\")\n",
        "    print(\"x1: \" + str(x1_new))\n",
        "    print(\"x2: \" + str(x2_new))\n",
        "    print(\"f: \" + str(func(x1_new, x2_new)))\n",
        "    print(\"g1: \" + str(g1(x1_new, x2_new)))\n",
        "    print(\"g2: \" + str(g2(x1_new, x2_new)))\n",
        "    return slp(x1, x2, LM/2)\n",
        "\n",
        "print(\"optimization initialized\")\n",
        "print(\"x1: \" + str(0))\n",
        "print(\"x2: \" + str(0))\n",
        "print(\"f: \" + str(func(0, 0)))\n",
        "print(\"g1: \" + str(g1(0, 0)))\n",
        "print(\"g2: \" + str(g2(0, 0)))\n",
        "slp(0, 0, 8)"
      ],
      "execution_count": null,
      "outputs": [
        {
          "output_type": "stream",
          "text": [
            "optimization initialized\n",
            "x1: 0\n",
            "x2: 0\n",
            "f: 0\n",
            "g1: 0.7853981633974483\n",
            "g2: 0.7853981633974483\n",
            "teste:  144\n",
            "teste:  0.7045611830080699\n",
            "position rejected\n",
            "x1: 7.987705950742005\n",
            "x2: 7.746071802559924\n",
            "f: -19.490364091058737\n",
            "g1: -8.22340852147711\n",
            "g2: 7.797278360586505\n",
            "teste:  72.0\n",
            "teste:  30.112453975265087\n",
            "position rejected\n",
            "x1: 2.1700170754240156\n",
            "x2: 3.583636408975332\n",
            "f: -24.336122005369504\n",
            "g1: -4.000963598718888\n",
            "g2: 5.0292556566577815\n",
            "teste:  36.0\n",
            "teste:  43.88169497144427\n",
            "position rejected\n",
            "x1: -0.5931350838604912\n",
            "x2: 0.8042331851617963\n",
            "f: 8.880295215265948\n",
            "g1: -0.8716694201926579\n",
            "g2: 2.590749517952677\n",
            "teste:  18.0\n",
            "teste:  7.249920705510869\n",
            "position rejected\n",
            "x1: 0.6588256492523236\n",
            "x2: 0.104434453225977\n",
            "f: -10.305121503355776\n",
            "g1: 1.5667400427065612\n",
            "g2: -0.16065012822474534\n",
            "teste:  9.0\n",
            "teste:  5.1819497791089316e-11\n",
            "position accepted\n",
            "x1: 0.49999999999976685\n",
            "x2: 0.4999999999759553\n",
            "f: -8.499999999972458\n",
            "g1: 1.0643691482291668\n",
            "g2: 0.38142717856578806\n",
            "teste:  8.000000000024277\n",
            "teste:  1.3558929103221836e-11\n",
            "position accepted\n",
            "x1: 0.9999999999991008\n",
            "x2: 0.9999999999723861\n",
            "f: -15.999999999987413\n",
            "g1: 0.5696955902516048\n",
            "g2: 0.7511007365435166\n",
            "teste:  7.000000000028512\n",
            "teste:  5.291131980864722\n",
            "position accepted\n",
            "x1: 1.1220620013667415\n",
            "x2: 1.3005808148883746\n",
            "f: -17.60362006067777\n",
            "g1: 0.12631048811352574\n",
            "g2: 1.1639703383396856\n",
            "teste:  6.577357183744884\n",
            "teste:  10.32230757881968\n",
            "position rejected\n",
            "x1: 0.8267491998706853\n",
            "x2: 0.7727096617873628\n",
            "f: -13.49281206059933\n",
            "g1: 0.9059269839378319\n",
            "g2: 0.45818204288939346\n",
            "teste:  3.288678591872442\n",
            "teste:  39.118050854054665\n",
            "position rejected\n",
            "x1: -1.5208194272095006\n",
            "x2: 0.42597917907471783\n",
            "f: 25.975502468385578\n",
            "g1: 0.4497339662011228\n",
            "g2: 1.501267217396149\n",
            "teste:  1.644339295936221\n",
            "teste:  1.8997890034091367\n",
            "position rejected\n",
            "x1: 1.1035124701782693\n",
            "x2: 1.3010543258757084\n",
            "f: -17.347826043884886\n",
            "g1: 0.15074708184339203\n",
            "g2: 1.1441711274069375\n",
            "teste:  0.8221696479681105\n",
            "teste:  0.30746626293001666\n",
            "position accepted\n",
            "x1: 1.1610990490512572\n",
            "x2: 1.3376513814475846\n",
            "f: -18.115425327718917\n",
            "g1: 0.03334204947865138\n",
            "g2: 1.2471795150534308\n",
            "teste:  0.8126561961876447\n",
            "teste:  6.774574835093383\n",
            "position rejected\n",
            "x1: 0.7038232831356123\n",
            "x2: 0.9043513597322561\n",
            "f: -11.756656653900937\n",
            "g1: 0.7797894661480966\n",
            "g2: 0.6150510398628969\n",
            "teste:  0.40632809809382237\n",
            "teste:  0.5929542110858272\n",
            "position rejected\n",
            "x1: 1.147050125856899\n",
            "x2: 1.3294590924486769\n",
            "f: -17.92853472888495\n",
            "g1: 0.062180877550360725\n",
            "g2: 1.221852917780311\n",
            "teste:  0.20316404904691118\n",
            "teste:  0.14525872688308553\n",
            "optimization terminated\n",
            "x1: 1.1654999017989662\n",
            "x2: 1.3410404834097136\n",
            "f: -18.17329979636573\n",
            "g1: 0.023366008466418897\n",
            "g2: 1.256055342878736\n"
          ],
          "name": "stdout"
        },
        {
          "output_type": "execute_result",
          "data": {
            "text/plain": [
              "(1.1654999017989662, 1.3410404834097136)"
            ]
          },
          "metadata": {
            "tags": []
          },
          "execution_count": 24
        }
      ]
    }
  ]
}